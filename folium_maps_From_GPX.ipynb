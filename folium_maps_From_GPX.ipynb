{
 "cells": [
  {
   "cell_type": "markdown",
   "metadata": {},
   "source": [
    "# Map GPX tracks"
   ]
  },
  {
   "cell_type": "code",
   "execution_count": 1,
   "metadata": {},
   "outputs": [],
   "source": [
    "import gpxpy\n",
    "import tcxparser\n",
    "import pandas as pd\n",
    "import numpy as np\n",
    "import math\n",
    "import pdb\n",
    "#from folium.plugins import MiniMap\n",
    "from folium import plugins\n",
    "from folium.features import ColorLine\n",
    "import folium\n",
    "from IPython.display import display, HTML\n",
    "import branca\n",
    "from collections import namedtuple\n",
    "import xml.etree.ElementTree as ET\n",
    "import os\n",
    "import matplotlib as mpl\n",
    "import colorsys\n",
    "from datetime import timedelta\n",
    "%matplotlib inline"
   ]
  },
  {
   "cell_type": "markdown",
   "metadata": {},
   "source": [
    "# Functions"
   ]
  },
  {
   "cell_type": "code",
   "execution_count": 2,
   "metadata": {},
   "outputs": [],
   "source": [
    "def process_gpx_to_df(file_name):\n",
    "\n",
    "    gpx = gpxpy.parse(open(file_name))  \n",
    "    \n",
    "    #(1)make DataFrame\n",
    "    track = gpx.tracks[0]\n",
    "    segment = track.segments[0]\n",
    "    # Load the data into a Pandas dataframe (by way of a list)\n",
    "    data = []\n",
    "    segment_length = segment.length_3d()\n",
    "    for point_idx, point in enumerate(segment.points):\n",
    "        data.append([point.longitude, point.latitude,point.elevation,\n",
    "                     point.time, segment.get_speed(point_idx)])\n",
    "    columns = ['Longitude', 'Latitude', 'Altitude', 'Time', 'Speed']\n",
    "    gpx_df = pd.DataFrame(data, columns=columns)\n",
    "    \n",
    "    #2(make points tuple for line)\n",
    "    points = []\n",
    "    for track in gpx.tracks:\n",
    "        for segment in track.segments:        \n",
    "            for point in segment.points:\n",
    "                points.append(tuple([point.latitude, point.longitude]))\n",
    "    \n",
    "    return gpx_df, points"
   ]
  },
  {
   "cell_type": "code",
   "execution_count": 3,
   "metadata": {},
   "outputs": [],
   "source": [
    "def process_tcx_to_df(file_name):\n",
    "\n",
    "    tcx = tcxparser.TCXParser(file_name) \n",
    "    \n",
    "    #(1)make DataFrame\n",
    "    heart = tcx.hr_values()\n",
    "    altitude = tcx.altitude_points()\n",
    "    point = tcx.position_values()\n",
    "    time = tcx.time_values()\n",
    "\n",
    "    # Load the data into a Pandas dataframe (by way of a list)\n",
    "    data = []\n",
    "    for i in range(len(point)):\n",
    "        data.append([point[i][1], point[i][0], altitude[i], pd.to_datetime(time[i]), heart[i]])\n",
    "    columns = ['Longitude', 'Latitude', 'Altitude', 'Time', 'HeartRate']\n",
    "    gpx_df = pd.DataFrame(data, columns=columns)\n",
    "    \n",
    "    return gpx_df, point"
   ]
  },
  {
   "cell_type": "code",
   "execution_count": 4,
   "metadata": {},
   "outputs": [],
   "source": [
    "def colorFader(c1,c2,mix=0): #fade (linear interpolate) from color c1 (at mix=0) to c2 (mix=1)\n",
    "    c1=np.array(mpl.colors.to_rgb(c1))\n",
    "    c2=np.array(mpl.colors.to_rgb(c2))\n",
    "    return mpl.colors.to_hex((1-mix)*c1 + mix*c2)"
   ]
  },
  {
   "cell_type": "code",
   "execution_count": 5,
   "metadata": {},
   "outputs": [],
   "source": [
    "def hue_gradient(mix=0):\n",
    "    return mpl.colors.to_hex(colorsys.hsv_to_rgb(mix*0.8, 1, 1))"
   ]
  },
  {
   "cell_type": "markdown",
   "metadata": {},
   "source": [
    "# Element tree parsing\n"
   ]
  },
  {
   "cell_type": "code",
   "execution_count": 6,
   "metadata": {},
   "outputs": [],
   "source": [
    "def gpx_get_activity_name(gpx_file):\n",
    "    #jenky - second instane of name is what I want\n",
    "    root = ET.parse(gpx_file).getroot()\n",
    "    for elem in root.iter():\n",
    "        if elem.tag=='{http://www.topografix.com/GPX/1/1}name':\n",
    "            name = elem.text\n",
    "    return name"
   ]
  },
  {
   "cell_type": "code",
   "execution_count": 7,
   "metadata": {},
   "outputs": [],
   "source": [
    "# return the first time point (start of the track)\n",
    "def gpx_get_start(gpx_file):\n",
    "    root = ET.parse(gpx_file).getroot()\n",
    "    for elem in root.iter():\n",
    "        if elem.tag=='{http://www.topografix.com/GPX/1/1}time':\n",
    "            return pd.to_datetime(elem.text)"
   ]
  },
  {
   "cell_type": "code",
   "execution_count": 8,
   "metadata": {},
   "outputs": [],
   "source": [
    "# return the first time point (start of the track)\n",
    "def tcx_get_start(tcx_file):\n",
    "    tcx = tcxparser.TCXParser(tcx_file)\n",
    "    return pd.to_datetime(tcx.started_at)"
   ]
  },
  {
   "cell_type": "markdown",
   "metadata": {},
   "source": [
    "# Main functions to build the maps"
   ]
  },
  {
   "cell_type": "code",
   "execution_count": 9,
   "metadata": {},
   "outputs": [],
   "source": [
    "def make_simple_map(file_name, map_name='my_simple_map.html', zoom_level=12):\n",
    "    #convert to DF and points tuple\n",
    "    df, points = process_gpx_to_df(file_name)\n",
    "    print('dataframe and points created for ' + file_name)\n",
    "\n",
    "    #get start and end lat/long\n",
    "    lat_start = df.iloc[0].Latitude\n",
    "    long_start = df.iloc[0].Longitude\n",
    "    lat_end = df.iloc[-1].Latitude\n",
    "    long_end = df.iloc[-1].Longitude\n",
    "\n",
    "    #set activity type\n",
    "    activity_color='green'\n",
    "        \n",
    "    #make map\n",
    "    mymap = folium.Map( location=[ df.Latitude.mean(), df.Longitude.mean() ], zoom_start=zoom_level, tiles=None)\n",
    "    folium.TileLayer('https://wmts.geo.admin.ch/1.0.0/ch.swisstopo.pixelkarte-grau/default/current/3857/{z}/{x}/{y}.jpeg', attr='&copy; <a href=\"https://www.swisstopo.admin.ch/\">swisstopo</a>', name='Swisstopo B&W').add_to(mymap)\n",
    "    folium.TileLayer('https://wmts.geo.admin.ch/1.0.0/ch.swisstopo.pixelkarte-farbe/default/current/3857/{z}/{x}/{y}.jpeg', attr='&copy; <a href=\"https://www.swisstopo.admin.ch/\">swisstopo</a>', name='Swisstopo color').add_to(mymap)\n",
    "    folium.TileLayer('https://wmts.geo.admin.ch/1.0.0/ch.swisstopo.swissimage/default/current/3857/{z}/{x}/{y}.jpeg', attr='&copy; <a href=\"https://www.swisstopo.admin.ch/\">swisstopo</a>', name='Swisstopo satellite').add_to(mymap)\n",
    "    folium.TileLayer('openstreetmap', name='OpenStreet Map').add_to(mymap)\n",
    "    \n",
    "    # draw line\n",
    "    folium.PolyLine(points, color=activity_color, weight=6, opacity=.8).add_to(mymap)\n",
    "    \n",
    "    folium.LayerControl(collapsed=True).add_to(mymap)\n",
    "    \n",
    "    mymap.save(map_name)# saves to html file for display below\n",
    "    mymap"
   ]
  },
  {
   "cell_type": "code",
   "execution_count": 10,
   "metadata": {},
   "outputs": [],
   "source": [
    "def make_tcx_map(file_name, map_name='my_tcx_map.html', zoom_level=12):\n",
    "    #convert to DF and points tuple\n",
    "    df, points = process_tcx_to_df(file_name)\n",
    "    print('dataframe and points created for ' + file_name)\n",
    "\n",
    "    #get start and end lat/long\n",
    "    lat_start = df.iloc[0].Latitude\n",
    "    long_start = df.iloc[0].Longitude\n",
    "    lat_end = df.iloc[-1].Latitude\n",
    "    long_end = df.iloc[-1].Longitude\n",
    "\n",
    "       \n",
    "    #make map\n",
    "    mymap = folium.Map( location=[ df.Latitude.mean(), df.Longitude.mean() ], zoom_start=zoom_level, tiles=None)\n",
    "    folium.TileLayer('https://wmts.geo.admin.ch/1.0.0/ch.swisstopo.pixelkarte-grau/default/current/3857/{z}/{x}/{y}.jpeg', attr='&copy; <a href=\"https://www.swisstopo.admin.ch/\">swisstopo</a>', name='Swisstopo B&W').add_to(mymap)\n",
    "    folium.TileLayer('https://wmts.geo.admin.ch/1.0.0/ch.swisstopo.pixelkarte-farbe/default/current/3857/{z}/{x}/{y}.jpeg', attr='&copy; <a href=\"https://www.swisstopo.admin.ch/\">swisstopo</a>', name='Swisstopo color').add_to(mymap)\n",
    "    folium.TileLayer('https://wmts.geo.admin.ch/1.0.0/ch.swisstopo.swissimage/default/current/3857/{z}/{x}/{y}.jpeg', attr='&copy; <a href=\"https://www.swisstopo.admin.ch/\">swisstopo</a>', name='Swisstopo satellite').add_to(mymap)\n",
    "    folium.TileLayer('openstreetmap', name='OpenStreet Map').add_to(mymap)\n",
    "    \n",
    "    # draw line\n",
    "    folium.features.ColorLine(points, list(df['HeartRate']), branca.colormap.LinearColormap([\"green\", \"yellow\", \"red\"], vmin=60, vmax=190), weight=6, opacity=1).add_to(mymap)\n",
    "    \n",
    "    folium.LayerControl(collapsed=True).add_to(mymap)\n",
    "    \n",
    "    mymap.save(map_name)# saves to html file for display below\n",
    "    mymap"
   ]
  },
  {
   "cell_type": "code",
   "execution_count": 11,
   "metadata": {},
   "outputs": [],
   "source": [
    "def map_all_tracks(gpx_folder='gpx-traces/', map_name='my_folium_all_maps.html', zoom_level=9):\n",
    "   \n",
    "    gpx_files = os.listdir(gpx_folder)\n",
    "    gpx_files.sort(key=lambda x: os.path.getmtime(gpx_folder + x)) # to get the latest tracks plotted on top\n",
    "    gpx_list = []\n",
    "    tcx_list = []\n",
    "    ts_min = 999999999999\n",
    "    ts_max = 0\n",
    "    for file in gpx_files:\n",
    "            full_path_file = gpx_folder+file\n",
    "            ts = 0\n",
    "            if os.path.getsize(full_path_file) > 0 and full_path_file[-3:]=='gpx':\n",
    "                gpx_list.append(full_path_file)\n",
    "                ts = gpx_get_start(full_path_file).timestamp()\n",
    "            elif os.path.getsize(full_path_file) > 0 and full_path_file[-3:]=='tcx':\n",
    "                tcx_list.append(full_path_file)\n",
    "                ts = tcx_get_start(full_path_file).timestamp()\n",
    "            ts_min = ts if ts < ts_min else ts_min\n",
    "            ts_max = ts if ts > ts_max else ts_max\n",
    "    \n",
    "    mymap = folium.Map( location=[ 46.8188543953265, 8.40708433025204 ], zoom_start=zoom_level, tiles=None)\n",
    "    folium.TileLayer('https://wmts.geo.admin.ch/1.0.0/ch.swisstopo.pixelkarte-grau/default/current/3857/{z}/{x}/{y}.jpeg', attr='&copy; <a href=\"https://www.swisstopo.admin.ch/\">swisstopo</a>', name='Swisstopo B&W').add_to(mymap)\n",
    "    folium.TileLayer('https://wmts.geo.admin.ch/1.0.0/ch.swisstopo.pixelkarte-farbe/default/current/3857/{z}/{x}/{y}.jpeg', attr='&copy; <a href=\"https://www.swisstopo.admin.ch/\">swisstopo</a>', name='Swisstopo color').add_to(mymap)\n",
    "    folium.TileLayer('https://wmts.geo.admin.ch/1.0.0/ch.swisstopo.swissimage/default/current/3857/{z}/{x}/{y}.jpeg', attr='&copy; <a href=\"https://www.swisstopo.admin.ch/\">swisstopo</a>', name='Swisstopo satellite').add_to(mymap)\n",
    "    folium.TileLayer('openstreetmap', name='OpenStreet Map').add_to(mymap)\n",
    "    \n",
    "    feature_groups = {}\n",
    "    for file_name in gpx_list:\n",
    "        gpx = gpxpy.parse(open(file_name))\n",
    "        track_name=os.path.splitext(os.path.basename(file_name))[0]\n",
    "        ts = gpx_get_start(file_name).timestamp()\n",
    "        #fader = hue_gradient((ts_max-ts)/(ts_max-ts_min))\n",
    "        fader = hue_gradient((ts%257)/256)\n",
    "        df, points = process_gpx_to_df(file_name)\n",
    "        moving_data = gpx.get_moving_data(raw=True)\n",
    "        elevation = gpx.get_uphill_downhill()\n",
    "        print('Processed gpx for ' + file_name)\n",
    "        \n",
    "        # create new group for each year\n",
    "        year = df.iloc[0].Time.year\n",
    "        if not year in feature_groups:\n",
    "            fg = folium.FeatureGroup(name=str(year), show=True)\n",
    "            feature_groups[year] = fg\n",
    "            mymap.add_child(fg)\n",
    "        \n",
    "        # add middle marker with stats\n",
    "        track_summary = {}\n",
    "        track_summary['Distance (km)'] = round(moving_data.moving_distance/1000,2)\n",
    "        track_summary['Moving Time (hours)'] = timedelta(seconds=moving_data.moving_time)\n",
    "        track_summary['Total Time (hours)'] = timedelta(seconds=gpx.get_duration())\n",
    "        track_summary['Average Speed (km/h)'] = round((moving_data.moving_distance/1000)/(moving_data.moving_time/3600),2)\n",
    "        track_summary['Average Speed (km/h)'] = round((moving_data.moving_distance/1000)/(gpx.get_duration()/3600),2)\n",
    "        track_summary['Elevation Gain (m)'] = round(elevation.uphill)\n",
    "        track_summary['Elevation Loss (m)'] = round(elevation.downhill)\n",
    "        track_summary_df = pd.DataFrame(list(track_summary.items()),columns = ['A','B'])\n",
    "        html_track_name = '<div align=\"justify\"><h5>{track_name}</h5><br>{date}</div>'.format(track_name=track_name, date=gpx_get_start(file_name))\n",
    "        html = html_track_name + '<div align=\"center\">' + track_summary_df.to_html(justify='center', header=False, index=False, index_names=False, col_space=300, classes='table-condensed table-responsive table-success') + \"</div>\"\n",
    "        popup = folium.Popup(html, max_width=300)\n",
    "\n",
    "        #get midpoint long / lad\n",
    "        length = df.shape[0]\n",
    "        mid_index= math.ceil(length / 2)\n",
    "\n",
    "        lat = df.iloc[mid_index]['Latitude']\n",
    "        long = df.iloc[mid_index]['Longitude']\n",
    "              \n",
    "        folium.PolyLine(points, color=fader, popup=popup, weight=6, opacity=.8).add_to(mymap).add_to(feature_groups[year])\n",
    "\n",
    "    for file_name in tcx_list:\n",
    "        tcx = tcxparser.TCXParser(file_name)\n",
    "        track_name=os.path.splitext(os.path.basename(file_name))[0]\n",
    "        ts = tcx_get_start(file_name).timestamp()\n",
    "        #fader = hue_gradient((ts_max-ts)/(ts_max-ts_min))\n",
    "        fader = hue_gradient((ts%257)/256)\n",
    "        df, points = process_tcx_to_df(file_name)\n",
    "        moving_data = gpx.get_moving_data(raw=True)\n",
    "        elevation = gpx.get_uphill_downhill()\n",
    "        print('Processed tcx for ' + file_name)\n",
    "        \n",
    "        # create new group for each year\n",
    "        year = df.iloc[0].Time.year\n",
    "        if not year in feature_groups:\n",
    "            fg = folium.FeatureGroup(name=str(year), show=True)\n",
    "            feature_groups[year] = fg\n",
    "            mymap.add_child(fg)\n",
    "        \n",
    "        # add middle marker with stats\n",
    "        distance = 0\n",
    "        for d in reversed(tcx.distance_values()):\n",
    "            if d > 0:\n",
    "                distance = d\n",
    "                break\n",
    "        track_summary = {}\n",
    "        track_summary['Distance (km)'] = round(distance/1000,2)\n",
    "        track_summary['Total Time (hours)'] = timedelta(seconds=tcx.duration)\n",
    "        track_summary['Average Speed (km/h)'] = round((distance/1000)/(tcx.duration/3600),2)\n",
    "        track_summary['Elevation Gain (m)'] = round(tcx.ascent)\n",
    "        track_summary['Elevation Loss (m)'] = round(tcx.descent)\n",
    "        track_summary_df = pd.DataFrame(list(track_summary.items()),columns = ['A','B'])\n",
    "        html_track_name = '<div align=\"justify\"><h5>{track_name}</h5><br>{date}</div>'.format(track_name=track_name, date=tcx_get_start(file_name))\n",
    "        html = html_track_name + '<div align=\"center\">' + track_summary_df.to_html(justify='center', header=False, index=False, index_names=False, col_space=300, classes='table-condensed table-responsive table-success') + \"</div>\"\n",
    "        popup = folium.Popup(html, max_width=300)\n",
    "\n",
    "        #get midpoint long / lad\n",
    "        length = df.shape[0]\n",
    "        mid_index= math.ceil(length / 2)\n",
    "\n",
    "        lat = df.iloc[mid_index]['Latitude']\n",
    "        long = df.iloc[mid_index]['Longitude']\n",
    "        \n",
    "        #folium.features.ColorLine(points, list(df['HeartRate']), branca.colormap.LinearColormap([\"green\", \"yellow\", \"red\"], vmin=60, vmax=190), weight=6, opacity=.8).add_to(feature_groups[year])\n",
    "        folium.PolyLine(points, color=fader, popup=popup, weight=6, opacity=.8).add_to(mymap).add_to(feature_groups[year])\n",
    "        \n",
    "    folium.LayerControl(collapsed=True).add_to(mymap)\n",
    "    mymap.save(map_name)# saves to html file"
   ]
  },
  {
   "cell_type": "markdown",
   "metadata": {},
   "source": [
    "# Build all my maps"
   ]
  },
  {
   "cell_type": "code",
   "execution_count": 12,
   "metadata": {},
   "outputs": [
    {
     "name": "stdout",
     "output_type": "stream",
     "text": [
      "Processed gpx for gpx-traces/Hasliberg Panoramaweg.gpx\n",
      "Processed gpx for gpx-traces/Autour du Gantrisch.gpx\n",
      "Processed gpx for gpx-traces/Autour de Vaulion.gpx\n",
      "Processed gpx for gpx-traces/Jaun - les Marindes.gpx\n",
      "Processed gpx for gpx-traces/Les Marindes - Château d'Oex.gpx\n",
      "Processed gpx for gpx-traces/les Cornettes de Bise.gpx\n",
      "Processed gpx for gpx-traces/Lovenex - St-Gingolph.gpx\n",
      "Processed gpx for gpx-traces/Boudry - Le Soliat.gpx\n",
      "Processed gpx for gpx-traces/St-Imier - la Neuveville.gpx\n",
      "Processed tcx for gpx-traces/Dent de Morcles.tcx\n"
     ]
    }
   ],
   "source": [
    "map_all_tracks(gpx_folder='gpx-traces/', map_name='all-tracks.html')"
   ]
  },
  {
   "cell_type": "markdown",
   "metadata": {},
   "source": [
    "# Build map of the latest track"
   ]
  },
  {
   "cell_type": "code",
   "execution_count": 13,
   "metadata": {},
   "outputs": [
    {
     "name": "stdout",
     "output_type": "stream",
     "text": [
      "dataframe and points created for gpx-traces/Dent de Morcles.tcx\n"
     ]
    }
   ],
   "source": [
    "files = os.listdir('gpx-traces')\n",
    "files.sort(key=lambda x: os.path.getmtime('gpx-traces/' + x))\n",
    "if files[-1].endswith('.gpx'): make_simple_map('gpx-traces/' + files[-1], map_name='last-track.html')\n",
    "elif files[-1].endswith('.tcx'): make_tcx_map('gpx-traces/' + files[-1], map_name='last-track.html')"
   ]
  }
 ],
 "metadata": {
  "kernelspec": {
   "display_name": "Python 3 (ipykernel)",
   "language": "python",
   "name": "python3"
  },
  "language_info": {
   "codemirror_mode": {
    "name": "ipython",
    "version": 3
   },
   "file_extension": ".py",
   "mimetype": "text/x-python",
   "name": "python",
   "nbconvert_exporter": "python",
   "pygments_lexer": "ipython3",
   "version": "3.9.12"
  }
 },
 "nbformat": 4,
 "nbformat_minor": 2
}
